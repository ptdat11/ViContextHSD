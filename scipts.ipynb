{
  "cells": [
    {
      "cell_type": "markdown",
      "metadata": {},
      "source": [
        "# Training"
      ]
    },
    {
      "cell_type": "code",
      "execution_count": null,
      "metadata": {},
      "outputs": [
        {
          "name": "stdout",
          "output_type": "stream",
          "text": [
            "[\u001b[32;20mTrainer\u001b[0m][\u001b[33;20mWARNING\u001b[0m][\u001b[35;20m01-06 11:02:15\u001b[0m]: Checkpoint checkpoints/ViHateT5/ablate_None--lvl_2--merge_None/last_epoch.pth not found, starting from scratch\n",
            "/home/ptdat/Desktop/venv/lib/python3.12/site-packages/peft/mapping_func.py:96: UserWarning: lora with eva initialization used with low_cpu_mem_usage=False. Setting low_cpu_mem_usage=True can improve the maximum batch size possible for eva initialization.\n",
            "  warnings.warn(\n",
            "[\u001b[32;20mTrainer\u001b[0m][\u001b[34;20mINFO\u001b[0m][\u001b[35;20m01-06 11:02:16\u001b[0m]: \n",
            "    Model: ViHateT5\n",
            "    Training size: 11785\n",
            "    Dev size: 1977\n",
            "    Ablate: None\n",
            "    Target speech level: 2\n",
            "    Label merge: None\n",
            "    Patience: 3\n",
            "    Batch size: 1\n",
            "    Learning rate: 0.0001\n",
            "    Gradient norm clip: 1.0\n",
            "    Weight decay: 0.0\n",
            "    Gradient accumulation: 64\n",
            "    Class weight: None\n",
            "    Device: cuda:0\n",
            "    \n",
            "=========================================================================================================\n",
            "Layer (type:depth-idx)                                                           Param #\n",
            "=========================================================================================================\n",
            "DistributedDataParallel                                                          --\n",
            "├─PeftModel: 1-1                                                                 --\n",
            "│    └─LoraModel: 2-1                                                            --\n",
            "│    │    └─ViHateT5: 3-1                                                        431,166,339\n",
            "=========================================================================================================\n",
            "Total params: 431,166,339\n",
            "Trainable params: 15,955,971\n",
            "Non-trainable params: 415,210,368\n",
            "=========================================================================================================\n",
            "2025/06/01 11:02:19 INFO mlflow.system_metrics.system_metrics_monitor: Started monitoring system metrics.\n",
            "Training: 100%|████████████| 11785/11785 [50:36<00:00,  3.88batch/s, loss=0.221]\n",
            "[\u001b[32;20mTrainer\u001b[0m][\u001b[34;20mINFO\u001b[0m][\u001b[35;20m01-06 11:53:00\u001b[0m]: Checkpoint saved at checkpoints/ViHateT5/ablate_None--lvl_2--merge_None/last_epoch.pth\n",
            "Evaluation: 100%|██████████████████████████| 248/248 [02:48<00:00,  1.47batch/s]\n",
            "[\u001b[32;20mTrainer\u001b[0m][\u001b[34;20mINFO\u001b[0m][\u001b[35;20m01-06 11:55:49\u001b[0m]: Evaluation score:\n",
            "              Clean  Offensive      Hate  Macro-avg\n",
            "F1         0.900383   0.576671  0.237288   0.571447\n",
            "Recall     0.937500   0.510441  0.166667   0.538203\n",
            "Precision  0.866093   0.662651  0.411765   0.646836\n",
            "[\u001b[32;20mTrainer\u001b[0m][\u001b[34;20mINFO\u001b[0m][\u001b[35;20m01-06 11:55:50\u001b[0m]: ============================================\n",
            "Training: 100%|████████████| 11785/11785 [53:27<00:00,  3.67batch/s, loss=0.154]\n",
            "[\u001b[32;20mTrainer\u001b[0m][\u001b[34;20mINFO\u001b[0m][\u001b[35;20m01-06 12:49:20\u001b[0m]: Checkpoint saved at checkpoints/ViHateT5/ablate_None--lvl_2--merge_None/last_epoch.pth\n",
            "Evaluation: 100%|██████████████████████████| 248/248 [02:37<00:00,  1.58batch/s]\n",
            "[\u001b[32;20mTrainer\u001b[0m][\u001b[34;20mINFO\u001b[0m][\u001b[35;20m01-06 12:51:58\u001b[0m]: Evaluation score:\n",
            "              Clean  Offensive      Hate  Macro-avg\n",
            "F1         0.902454   0.561453  0.233333   0.565747\n",
            "Recall     0.953457   0.466357  0.166667   0.528827\n",
            "Precision  0.856631   0.705263  0.388889   0.650261\n",
            "[\u001b[32;20mTrainer\u001b[0m][\u001b[34;20mINFO\u001b[0m][\u001b[35;20m01-06 12:51:58\u001b[0m]: ============================================\n",
            "Training: 100%|███████████| 11785/11785 [52:23<00:00,  3.75batch/s, loss=0.0135]\n",
            "[\u001b[32;20mTrainer\u001b[0m][\u001b[34;20mINFO\u001b[0m][\u001b[35;20m01-06 13:44:24\u001b[0m]: Checkpoint saved at checkpoints/ViHateT5/ablate_None--lvl_2--merge_None/last_epoch.pth\n",
            "Evaluation: 100%|██████████████████████████| 248/248 [02:44<00:00,  1.51batch/s]\n",
            "[\u001b[32;20mTrainer\u001b[0m][\u001b[34;20mINFO\u001b[0m][\u001b[35;20m01-06 13:47:09\u001b[0m]: Evaluation score:\n",
            "              Clean  Offensive      Hate  Macro-avg\n",
            "F1         0.897343   0.613555  0.156250   0.555716\n",
            "Recall     0.909574   0.598608  0.119048   0.542410\n",
            "Precision  0.885437   0.629268  0.227273   0.580659\n",
            "[\u001b[32;20mTrainer\u001b[0m][\u001b[34;20mINFO\u001b[0m][\u001b[35;20m01-06 13:47:09\u001b[0m]: ============================================\n",
            "Training:   0%|                                    | 0/11785 [00:00<?, ?batch/s]Fatal Python error: init_import_site: Failed to import the site module\n",
            "Python runtime state: initialized\n",
            "Traceback (most recent call last):\n",
            "  File \"<frozen importlib._bootstrap>\", line 1360, in _find_and_load\n",
            "  File \"<frozen importlib._bootstrap>\", line 1331, in _find_and_load_unlocked\n",
            "  File \"<frozen importlib._bootstrap>\", line 935, in _load_unlocked\n",
            "  File \"<frozen importlib._bootstrap>\", line 1176, in exec_module\n",
            "  File \"<frozen site>\", line 643, in <module>\n",
            "  File \"<frozen site>\", line 630, in main\n",
            "  File \"<frozen site>\", line 413, in addsitepackages\n",
            "  File \"<frozen site>\", line 236, in addsitedir\n",
            "Training:   0%|                                    | 0/11785 [00:12<?, ?batch/s]KeyboardInterrupt\n",
            "\n",
            "2025/06/01 13:47:21 INFO mlflow.system_metrics.system_metrics_monitor: Stopping system metrics monitoring...\n",
            "2025/06/01 13:47:21 INFO mlflow.system_metrics.system_metrics_monitor: Successfully terminated system metrics monitoring!\n",
            "Exception ignored in: <function _MultiProcessingDataLoaderIter.__del__ at 0x7a648e9e9940>\n",
            "Traceback (most recent call last):\n",
            "  File \"/home/ptdat/Desktop/venv/lib/python3.12/site-packages/torch/utils/data/dataloader.py\", line 1618, in __del__\n",
            "^C\n",
            "  File \"/home/ptdat/Desktop/venv/lib/python3.12/site-packages/torch/utils/data/dataloader.py\", line 1576, in _shutdown_workers\n",
            "    if self._persistent_workers or self._workers_status[worker_id]:\n",
            "                                   ^^^^^^^^^^^^^^^^^^^^\n",
            "AttributeError: '_MultiProcessingDataLoaderIter' object has no attribute '_workers_status'\n",
            "object address  : 0x747342f50b80\n",
            "object refcount : 3\n",
            "object type     : 0xa35620\n",
            "object type name: KeyboardInterrupt\n",
            "object repr     : KeyboardInterrupt()\n",
            "lost sys.stderr\n"
          ]
        }
      ],
      "source": [
        "!python3 train.py \\\n",
        "    --model=ViHateT5 \\\n",
        "    --ablate=none \\\n",
        "    --target-cmt-lvl=1 \\\n",
        "    --label-merge=none \\\n",
        "    --early-stop-patience=3 \\\n",
        "    --monitor=f1 \\\n",
        "    --batch-size=1 \\\n",
        "    --eval-batch-size=8 \\\n",
        "    --learning-rate=1e-4 \\\n",
        "    --lora-rank=16 \\\n",
        "    --grad-clip=1 \\\n",
        "    --weight-decay=0 \\\n",
        "    --grad-accum=64 \\\n",
        "    --cls-weight=no \\\n",
        "    --use-aug=yes \\\n",
        "    --instruct=no \\\n",
        "    --resume=yes \\\n",
        "    --dist=yes"
      ]
    },
    {
      "cell_type": "markdown",
      "metadata": {},
      "source": [
        "# Evaluation"
      ]
    },
    {
      "cell_type": "code",
      "execution_count": null,
      "metadata": {},
      "outputs": [],
      "source": [
        "!python3 evaluate.py \\\n",
        "    --model=ViHateT5 \\\n",
        "    --ablate=none \\\n",
        "    --target-cmt-lvl=2 \\\n",
        "    --label-merge=none \\\n",
        "    --batch-size=8 \\\n",
        "    --instruct=no \\\n",
        "    --save-preds=yes \\\n",
        "    --dist=yes"
      ]
    },
    {
      "cell_type": "markdown",
      "metadata": {},
      "source": [
        "# Augmentation"
      ]
    },
    {
      "cell_type": "code",
      "execution_count": null,
      "metadata": {},
      "outputs": [
        {
          "name": "stdout",
          "output_type": "stream",
          "text": [
            "2025-04-11 23:19:38 INFO  WordSegmenter:24 - Loading Word Segmentation model\n",
            "[\u001b[32;20mAugmentation\u001b[0m][\u001b[34;20mINFO\u001b[0m][\u001b[35;20m11-04 23:20:32\u001b[0m]: \n",
            "AUGMENTED LABELS:\n",
            "Level 1: Hate: 5744, Offensive: 5435, Clean: 3114\n",
            "Level 2: Hate: 2352, Offensive: 2179, Clean: 1270\n",
            "Overall: Hate: 8096, Offensive: 7614, Clean: 4384\n",
            "\n"
          ]
        }
      ],
      "source": [
        "!python3 augment.py \\\n",
        "    --synonym-rate=0.1 \\    \n",
        "    --rm-word-prob=0.02 \\\n",
        "    --out-dir=./ViContextHSD/aug"
      ]
    }
  ],
  "metadata": {
    "kernelspec": {
      "display_name": "venv",
      "language": "python",
      "name": "python3"
    },
    "language_info": {
      "codemirror_mode": {
        "name": "ipython",
        "version": 3
      },
      "file_extension": ".py",
      "mimetype": "text/x-python",
      "name": "python",
      "nbconvert_exporter": "python",
      "pygments_lexer": "ipython3",
      "version": "3.12.3"
    }
  },
  "nbformat": 4,
  "nbformat_minor": 2
}
